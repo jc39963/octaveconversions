{
 "cells": [
  {
   "cell_type": "code",
   "execution_count": 1,
   "id": "5261ad19-c129-46e9-b26e-ba92579b02e1",
   "metadata": {},
   "outputs": [],
   "source": [
    "import numpy as np"
   ]
  },
  {
   "cell_type": "code",
   "execution_count": 2,
   "id": "769ef510-58ab-4088-8a96-c37f1f2c7275",
   "metadata": {},
   "outputs": [],
   "source": [
    "import pandas as pd"
   ]
  },
  {
   "cell_type": "code",
   "execution_count": 3,
   "id": "12fc0ab9-2490-473b-a00d-bf2fc3b984fa",
   "metadata": {},
   "outputs": [],
   "source": [
    "data = np.loadtxt(\"ex2data1.txt\",\n",
    "                 delimiter=\",\", dtype=str)"
   ]
  },
  {
   "cell_type": "code",
   "execution_count": 4,
   "id": "863c24ab-872a-4cac-a78e-688fa1918e75",
   "metadata": {},
   "outputs": [
    {
     "data": {
      "text/plain": [
       "array([['34.62365962451697', '78.0246928153624', '0'],\n",
       "       ['30.28671076822607', '43.89499752400101', '0'],\n",
       "       ['35.84740876993872', '72.90219802708364', '0'],\n",
       "       ['60.18259938620976', '86.30855209546826', '1'],\n",
       "       ['79.0327360507101', '75.3443764369103', '1'],\n",
       "       ['45.08327747668339', '56.3163717815305', '0'],\n",
       "       ['61.10666453684766', '96.51142588489624', '1'],\n",
       "       ['75.02474556738889', '46.55401354116538', '1'],\n",
       "       ['76.09878670226257', '87.42056971926803', '1'],\n",
       "       ['84.43281996120035', '43.53339331072109', '1'],\n",
       "       ['95.86155507093572', '38.22527805795094', '0'],\n",
       "       ['75.01365838958247', '30.60326323428011', '0'],\n",
       "       ['82.30705337399482', '76.48196330235604', '1'],\n",
       "       ['69.36458875970939', '97.71869196188608', '1'],\n",
       "       ['39.53833914367223', '76.03681085115882', '0'],\n",
       "       ['53.9710521485623', '89.20735013750205', '1'],\n",
       "       ['69.07014406283025', '52.74046973016765', '1'],\n",
       "       ['67.94685547711617', '46.67857410673128', '0'],\n",
       "       ['70.66150955499435', '92.92713789364831', '1'],\n",
       "       ['76.97878372747498', '47.57596364975532', '1'],\n",
       "       ['67.37202754570876', '42.83843832029179', '0'],\n",
       "       ['89.67677575072079', '65.79936592745237', '1'],\n",
       "       ['50.534788289883', '48.85581152764205', '0'],\n",
       "       ['34.21206097786789', '44.20952859866288', '0'],\n",
       "       ['77.9240914545704', '68.9723599933059', '1'],\n",
       "       ['62.27101367004632', '69.95445795447587', '1'],\n",
       "       ['80.1901807509566', '44.82162893218353', '1'],\n",
       "       ['93.114388797442', '38.80067033713209', '0'],\n",
       "       ['61.83020602312595', '50.25610789244621', '0'],\n",
       "       ['38.78580379679423', '64.99568095539578', '0'],\n",
       "       ['61.379289447425', '72.80788731317097', '1'],\n",
       "       ['85.40451939411645', '57.05198397627122', '1'],\n",
       "       ['52.10797973193984', '63.12762376881715', '0'],\n",
       "       ['52.04540476831827', '69.43286012045222', '1'],\n",
       "       ['40.23689373545111', '71.16774802184875', '0'],\n",
       "       ['54.63510555424817', '52.21388588061123', '0'],\n",
       "       ['33.91550010906887', '98.86943574220611', '0'],\n",
       "       ['64.17698887494485', '80.90806058670817', '1'],\n",
       "       ['74.78925295941542', '41.57341522824434', '0'],\n",
       "       ['34.1836400264419', '75.2377203360134', '0'],\n",
       "       ['83.90239366249155', '56.30804621605327', '1'],\n",
       "       ['51.54772026906181', '46.85629026349976', '0'],\n",
       "       ['94.44336776917852', '65.56892160559052', '1'],\n",
       "       ['82.36875375713919', '40.61825515970618', '0'],\n",
       "       ['51.04775177128865', '45.82270145776001', '0'],\n",
       "       ['62.22267576120188', '52.06099194836679', '0'],\n",
       "       ['77.19303492601364', '70.45820000180959', '1'],\n",
       "       ['97.77159928000232', '86.7278223300282', '1'],\n",
       "       ['62.07306379667647', '96.76882412413983', '1'],\n",
       "       ['91.56497449807442', '88.69629254546599', '1'],\n",
       "       ['79.94481794066932', '74.16311935043758', '1'],\n",
       "       ['99.2725269292572', '60.99903099844988', '1'],\n",
       "       ['90.54671411399852', '43.39060180650027', '1'],\n",
       "       ['34.52451385320009', '60.39634245837173', '0'],\n",
       "       ['50.2864961189907', '49.80453881323059', '0'],\n",
       "       ['49.58667721632031', '59.80895099453265', '0'],\n",
       "       ['97.64563396007767', '68.86157272420604', '1'],\n",
       "       ['32.57720016809309', '95.59854761387875', '0'],\n",
       "       ['74.24869136721598', '69.82457122657193', '1'],\n",
       "       ['71.79646205863379', '78.45356224515052', '1'],\n",
       "       ['75.3956114656803', '85.75993667331619', '1'],\n",
       "       ['35.28611281526193', '47.02051394723416', '0'],\n",
       "       ['56.25381749711624', '39.26147251058019', '0'],\n",
       "       ['30.05882244669796', '49.59297386723685', '0'],\n",
       "       ['44.66826172480893', '66.45008614558913', '0'],\n",
       "       ['66.56089447242954', '41.09209807936973', '0'],\n",
       "       ['40.45755098375164', '97.53518548909936', '1'],\n",
       "       ['49.07256321908844', '51.88321182073966', '0'],\n",
       "       ['80.27957401466998', '92.11606081344084', '1'],\n",
       "       ['66.74671856944039', '60.99139402740988', '1'],\n",
       "       ['32.72283304060323', '43.30717306430063', '0'],\n",
       "       ['64.0393204150601', '78.03168802018232', '1'],\n",
       "       ['72.34649422579923', '96.22759296761404', '1'],\n",
       "       ['60.45788573918959', '73.09499809758037', '1'],\n",
       "       ['58.84095621726802', '75.85844831279042', '1'],\n",
       "       ['99.82785779692128', '72.36925193383885', '1'],\n",
       "       ['47.26426910848174', '88.47586499559782', '1'],\n",
       "       ['50.45815980285988', '75.80985952982456', '1'],\n",
       "       ['60.45555629271532', '42.50840943572217', '0'],\n",
       "       ['82.22666157785568', '42.71987853716458', '0'],\n",
       "       ['88.9138964166533', '69.80378889835472', '1'],\n",
       "       ['94.83450672430196', '45.69430680250754', '1'],\n",
       "       ['67.31925746917527', '66.58935317747915', '1'],\n",
       "       ['57.23870631569862', '59.51428198012956', '1'],\n",
       "       ['80.36675600171273', '90.96014789746954', '1'],\n",
       "       ['68.46852178591112', '85.59430710452014', '1'],\n",
       "       ['42.0754545384731', '78.84478600148043', '0'],\n",
       "       ['75.47770200533905', '90.42453899753964', '1'],\n",
       "       ['78.63542434898018', '96.64742716885644', '1'],\n",
       "       ['52.34800398794107', '60.76950525602592', '0'],\n",
       "       ['94.09433112516793', '77.15910509073893', '1'],\n",
       "       ['90.44855097096364', '87.50879176484702', '1'],\n",
       "       ['55.48216114069585', '35.57070347228866', '0'],\n",
       "       ['74.49269241843041', '84.84513684930135', '1'],\n",
       "       ['89.84580670720979', '45.35828361091658', '1'],\n",
       "       ['83.48916274498238', '48.38028579728175', '1'],\n",
       "       ['42.2617008099817', '87.10385094025457', '1'],\n",
       "       ['99.31500880510394', '68.77540947206617', '1'],\n",
       "       ['55.34001756003703', '64.9319380069486', '1'],\n",
       "       ['74.77589300092767', '89.52981289513276', '1']], dtype='<U17')"
      ]
     },
     "execution_count": 4,
     "metadata": {},
     "output_type": "execute_result"
    }
   ],
   "source": [
    "data"
   ]
  },
  {
   "cell_type": "code",
   "execution_count": 5,
   "id": "8f46406b-274e-4cc3-928c-28dc57f7a559",
   "metadata": {},
   "outputs": [
    {
     "data": {
      "text/plain": [
       "numpy.str_"
      ]
     },
     "execution_count": 5,
     "metadata": {},
     "output_type": "execute_result"
    }
   ],
   "source": [
    "type(data[0][0])"
   ]
  },
  {
   "cell_type": "code",
   "execution_count": 6,
   "id": "daa67dbd-b0f9-4e86-ac35-44bd2e8a2ca6",
   "metadata": {},
   "outputs": [
    {
     "data": {
      "text/plain": [
       "numpy.ndarray"
      ]
     },
     "execution_count": 6,
     "metadata": {},
     "output_type": "execute_result"
    }
   ],
   "source": [
    "type(data)"
   ]
  },
  {
   "cell_type": "code",
   "execution_count": 7,
   "id": "68162dcc-55a3-45f1-9720-7c8919e6747f",
   "metadata": {},
   "outputs": [
    {
     "data": {
      "text/plain": [
       "numpy.ndarray"
      ]
     },
     "execution_count": 7,
     "metadata": {},
     "output_type": "execute_result"
    }
   ],
   "source": [
    "type(data[0])"
   ]
  },
  {
   "cell_type": "code",
   "execution_count": 8,
   "id": "308ddf16-ef56-461b-9a8b-ffce26fd75cf",
   "metadata": {},
   "outputs": [],
   "source": [
    "data = data.astype(np.float32) #convert to float, alternatively, when loading data, dtype set to float instead"
   ]
  },
  {
   "cell_type": "code",
   "execution_count": 9,
   "id": "fa923b77-0854-47f9-95ba-bcfd68df5f3a",
   "metadata": {},
   "outputs": [
    {
     "data": {
      "text/plain": [
       "array([[34.62366 , 78.0247  ,  0.      ],\n",
       "       [30.28671 , 43.894997,  0.      ],\n",
       "       [35.84741 , 72.9022  ,  0.      ],\n",
       "       [60.1826  , 86.308556,  1.      ],\n",
       "       [79.03274 , 75.344376,  1.      ],\n",
       "       [45.08328 , 56.316372,  0.      ],\n",
       "       [61.106663, 96.51143 ,  1.      ],\n",
       "       [75.02474 , 46.554012,  1.      ],\n",
       "       [76.098785, 87.42057 ,  1.      ],\n",
       "       [84.43282 , 43.533394,  1.      ],\n",
       "       [95.86156 , 38.225277,  0.      ],\n",
       "       [75.01366 , 30.603264,  0.      ],\n",
       "       [82.30705 , 76.481964,  1.      ],\n",
       "       [69.364586, 97.71869 ,  1.      ],\n",
       "       [39.538338, 76.03681 ,  0.      ],\n",
       "       [53.97105 , 89.20735 ,  1.      ],\n",
       "       [69.070145, 52.74047 ,  1.      ],\n",
       "       [67.94685 , 46.678574,  0.      ],\n",
       "       [70.66151 , 92.92714 ,  1.      ],\n",
       "       [76.97878 , 47.575962,  1.      ],\n",
       "       [67.372025, 42.83844 ,  0.      ],\n",
       "       [89.67677 , 65.79936 ,  1.      ],\n",
       "       [50.53479 , 48.855812,  0.      ],\n",
       "       [34.212063, 44.20953 ,  0.      ],\n",
       "       [77.924095, 68.97236 ,  1.      ],\n",
       "       [62.271015, 69.95446 ,  1.      ],\n",
       "       [80.19018 , 44.82163 ,  1.      ],\n",
       "       [93.11439 , 38.80067 ,  0.      ],\n",
       "       [61.830208, 50.256107,  0.      ],\n",
       "       [38.785805, 64.99568 ,  0.      ],\n",
       "       [61.379288, 72.807884,  1.      ],\n",
       "       [85.40452 , 57.051983,  1.      ],\n",
       "       [52.10798 , 63.127625,  0.      ],\n",
       "       [52.045406, 69.43286 ,  1.      ],\n",
       "       [40.236893, 71.16775 ,  0.      ],\n",
       "       [54.635105, 52.213886,  0.      ],\n",
       "       [33.9155  , 98.86944 ,  0.      ],\n",
       "       [64.17699 , 80.90806 ,  1.      ],\n",
       "       [74.78925 , 41.573414,  0.      ],\n",
       "       [34.18364 , 75.23772 ,  0.      ],\n",
       "       [83.9024  , 56.308044,  1.      ],\n",
       "       [51.54772 , 46.85629 ,  0.      ],\n",
       "       [94.44337 , 65.568924,  1.      ],\n",
       "       [82.36875 , 40.618256,  0.      ],\n",
       "       [51.047752, 45.8227  ,  0.      ],\n",
       "       [62.222675, 52.060993,  0.      ],\n",
       "       [77.19303 , 70.4582  ,  1.      ],\n",
       "       [97.7716  , 86.72782 ,  1.      ],\n",
       "       [62.073063, 96.76882 ,  1.      ],\n",
       "       [91.56497 , 88.69629 ,  1.      ],\n",
       "       [79.94482 , 74.16312 ,  1.      ],\n",
       "       [99.27253 , 60.99903 ,  1.      ],\n",
       "       [90.546715, 43.390602,  1.      ],\n",
       "       [34.524513, 60.396343,  0.      ],\n",
       "       [50.286495, 49.80454 ,  0.      ],\n",
       "       [49.586678, 59.808952,  0.      ],\n",
       "       [97.64564 , 68.86157 ,  1.      ],\n",
       "       [32.5772  , 95.59855 ,  0.      ],\n",
       "       [74.24869 , 69.82457 ,  1.      ],\n",
       "       [71.79646 , 78.45356 ,  1.      ],\n",
       "       [75.395615, 85.75993 ,  1.      ],\n",
       "       [35.286114, 47.020515,  0.      ],\n",
       "       [56.25382 , 39.26147 ,  0.      ],\n",
       "       [30.058823, 49.592976,  0.      ],\n",
       "       [44.668262, 66.45009 ,  0.      ],\n",
       "       [66.5609  , 41.0921  ,  0.      ],\n",
       "       [40.45755 , 97.53519 ,  1.      ],\n",
       "       [49.072563, 51.883213,  0.      ],\n",
       "       [80.27957 , 92.11606 ,  1.      ],\n",
       "       [66.74672 , 60.991394,  1.      ],\n",
       "       [32.72283 , 43.307175,  0.      ],\n",
       "       [64.03932 , 78.031685,  1.      ],\n",
       "       [72.3465  , 96.22759 ,  1.      ],\n",
       "       [60.457886, 73.095   ,  1.      ],\n",
       "       [58.840958, 75.85845 ,  1.      ],\n",
       "       [99.82786 , 72.369255,  1.      ],\n",
       "       [47.26427 , 88.47587 ,  1.      ],\n",
       "       [50.45816 , 75.80986 ,  1.      ],\n",
       "       [60.455555, 42.508408,  0.      ],\n",
       "       [82.22666 , 42.71988 ,  0.      ],\n",
       "       [88.913895, 69.80379 ,  1.      ],\n",
       "       [94.8345  , 45.694305,  1.      ],\n",
       "       [67.31926 , 66.589355,  1.      ],\n",
       "       [57.238705, 59.514282,  1.      ],\n",
       "       [80.36675 , 90.96015 ,  1.      ],\n",
       "       [68.46852 , 85.59431 ,  1.      ],\n",
       "       [42.075455, 78.84479 ,  0.      ],\n",
       "       [75.4777  , 90.42454 ,  1.      ],\n",
       "       [78.63542 , 96.64743 ,  1.      ],\n",
       "       [52.348003, 60.769505,  0.      ],\n",
       "       [94.09433 , 77.1591  ,  1.      ],\n",
       "       [90.44855 , 87.50879 ,  1.      ],\n",
       "       [55.482162, 35.5707  ,  0.      ],\n",
       "       [74.49269 , 84.84514 ,  1.      ],\n",
       "       [89.84581 , 45.358284,  1.      ],\n",
       "       [83.48917 , 48.380287,  1.      ],\n",
       "       [42.2617  , 87.10385 ,  1.      ],\n",
       "       [99.31501 , 68.775406,  1.      ],\n",
       "       [55.34002 , 64.93194 ,  1.      ],\n",
       "       [74.775894, 89.529816,  1.      ]], dtype=float32)"
      ]
     },
     "execution_count": 9,
     "metadata": {},
     "output_type": "execute_result"
    }
   ],
   "source": [
    "data"
   ]
  },
  {
   "cell_type": "code",
   "execution_count": 10,
   "id": "d4bc464b-df3d-4b0e-9bb0-02a8937a8c6f",
   "metadata": {},
   "outputs": [],
   "source": [
    "x_values = []\n",
    "x2_values = []\n",
    "y_values = []\n",
    "for i in data:\n",
    "    x_values.append(i[0])\n",
    "    x2_values.append(i[1])\n",
    "    y_values.append(i[2])"
   ]
  },
  {
   "cell_type": "code",
   "execution_count": 11,
   "id": "69245680-808b-467e-a5fb-824fa4555c6e",
   "metadata": {},
   "outputs": [
    {
     "name": "stdout",
     "output_type": "stream",
     "text": [
      "[34.62366, 30.28671, 35.84741, 60.1826, 79.03274, 45.08328, 61.106663, 75.02474, 76.098785, 84.43282, 95.86156, 75.01366, 82.30705, 69.364586, 39.538338, 53.97105, 69.070145, 67.94685, 70.66151, 76.97878, 67.372025, 89.67677, 50.53479, 34.212063, 77.924095, 62.271015, 80.19018, 93.11439, 61.830208, 38.785805, 61.379288, 85.40452, 52.10798, 52.045406, 40.236893, 54.635105, 33.9155, 64.17699, 74.78925, 34.18364, 83.9024, 51.54772, 94.44337, 82.36875, 51.047752, 62.222675, 77.19303, 97.7716, 62.073063, 91.56497, 79.94482, 99.27253, 90.546715, 34.524513, 50.286495, 49.586678, 97.64564, 32.5772, 74.24869, 71.79646, 75.395615, 35.286114, 56.25382, 30.058823, 44.668262, 66.5609, 40.45755, 49.072563, 80.27957, 66.74672, 32.72283, 64.03932, 72.3465, 60.457886, 58.840958, 99.82786, 47.26427, 50.45816, 60.455555, 82.22666, 88.913895, 94.8345, 67.31926, 57.238705, 80.36675, 68.46852, 42.075455, 75.4777, 78.63542, 52.348003, 94.09433, 90.44855, 55.482162, 74.49269, 89.84581, 83.48917, 42.2617, 99.31501, 55.34002, 74.775894] \n",
      " [78.0247, 43.894997, 72.9022, 86.308556, 75.344376, 56.316372, 96.51143, 46.554012, 87.42057, 43.533394, 38.225277, 30.603264, 76.481964, 97.71869, 76.03681, 89.20735, 52.74047, 46.678574, 92.92714, 47.575962, 42.83844, 65.79936, 48.855812, 44.20953, 68.97236, 69.95446, 44.82163, 38.80067, 50.256107, 64.99568, 72.807884, 57.051983, 63.127625, 69.43286, 71.16775, 52.213886, 98.86944, 80.90806, 41.573414, 75.23772, 56.308044, 46.85629, 65.568924, 40.618256, 45.8227, 52.060993, 70.4582, 86.72782, 96.76882, 88.69629, 74.16312, 60.99903, 43.390602, 60.396343, 49.80454, 59.808952, 68.86157, 95.59855, 69.82457, 78.45356, 85.75993, 47.020515, 39.26147, 49.592976, 66.45009, 41.0921, 97.53519, 51.883213, 92.11606, 60.991394, 43.307175, 78.031685, 96.22759, 73.095, 75.85845, 72.369255, 88.47587, 75.80986, 42.508408, 42.71988, 69.80379, 45.694305, 66.589355, 59.514282, 90.96015, 85.59431, 78.84479, 90.42454, 96.64743, 60.769505, 77.1591, 87.50879, 35.5707, 84.84514, 45.358284, 48.380287, 87.10385, 68.775406, 64.93194, 89.529816] \n",
      " [0.0, 0.0, 0.0, 1.0, 1.0, 0.0, 1.0, 1.0, 1.0, 1.0, 0.0, 0.0, 1.0, 1.0, 0.0, 1.0, 1.0, 0.0, 1.0, 1.0, 0.0, 1.0, 0.0, 0.0, 1.0, 1.0, 1.0, 0.0, 0.0, 0.0, 1.0, 1.0, 0.0, 1.0, 0.0, 0.0, 0.0, 1.0, 0.0, 0.0, 1.0, 0.0, 1.0, 0.0, 0.0, 0.0, 1.0, 1.0, 1.0, 1.0, 1.0, 1.0, 1.0, 0.0, 0.0, 0.0, 1.0, 0.0, 1.0, 1.0, 1.0, 0.0, 0.0, 0.0, 0.0, 0.0, 1.0, 0.0, 1.0, 1.0, 0.0, 1.0, 1.0, 1.0, 1.0, 1.0, 1.0, 1.0, 0.0, 0.0, 1.0, 1.0, 1.0, 1.0, 1.0, 1.0, 0.0, 1.0, 1.0, 0.0, 1.0, 1.0, 0.0, 1.0, 1.0, 1.0, 1.0, 1.0, 1.0, 1.0]\n"
     ]
    }
   ],
   "source": [
    "print(x_values ,'\\n' ,x2_values, '\\n' ,y_values)"
   ]
  },
  {
   "cell_type": "code",
   "execution_count": 12,
   "id": "23e9bd38-a1e9-4c2e-843a-eb76250ef3ad",
   "metadata": {},
   "outputs": [],
   "source": [
    "import matplotlib.pyplot as plt"
   ]
  },
  {
   "cell_type": "code",
   "execution_count": 13,
   "id": "43118a65-14fb-4a7e-9803-550f81967731",
   "metadata": {},
   "outputs": [
    {
     "data": {
      "image/png": "[encoded data removed]",
      "text/plain": [
       "<Figure size 640x480 with 1 Axes>"
      ]
     },
     "metadata": {},
     "output_type": "display_data"
    }
   ],
   "source": [
    "fig = plt.figure()\n",
    "ax=fig.add_subplot(111, label=\"1\")\n",
    "markers = ['+', 'o']\n",
    "m = 1\n",
    "#ax.scatter(x_values, x2_values, color=\"C0\")\n",
    "ax.set_xlabel(\"Exam 1 score\", color=\"C0\")\n",
    "ax.set_ylabel(\"Exam 2 score\", color=\"C0\")\n",
    "i = 0\n",
    "for i in range(0, len(y_values) - 1):\n",
    "    if y_values[i] == 0:\n",
    "        m = 1\n",
    "        plt.scatter(x_values[i], x2_values[i], marker = markers[m], color = \"C1\")\n",
    "    elif y_values[i] == 1:\n",
    "        m = 0\n",
    "        plt.scatter(x_values[i], x2_values[i], marker = markers[m], label = \"admitted\", color = \"C0\") \n"
   ]
  },
  {
   "cell_type": "code",
   "execution_count": 14,
   "id": "87dc6eb9-aa48-46fe-b1fb-decdee91316b",
   "metadata": {},
   "outputs": [],
   "source": [
    "#define sigmoid function for log regression\n",
    "def sigmoid(z):\n",
    "    sig = 1/(1+np.exp(-z))\n",
    "    return sig"
   ]
  },
  {
   "cell_type": "markdown",
   "id": "a2e17c10-b386-4c83-bf53-253cdaa8b520",
   "metadata": {},
   "source": [
    "## Hypothesis for Logistic Regression\n",
    "$ h_{\\theta}(x) = g(\\theta^{T}x)$"
   ]
  },
  {
   "cell_type": "code",
   "execution_count": 15,
   "id": "42c28faa-0b17-4e2d-aa28-9ed68b7ca419",
   "metadata": {},
   "outputs": [
    {
     "data": {
      "text/plain": [
       "(array([[34.62366 , 78.0247  ],\n",
       "        [30.28671 , 43.894997],\n",
       "        [35.84741 , 72.9022  ],\n",
       "        [60.1826  , 86.308556],\n",
       "        [79.03274 , 75.344376],\n",
       "        [45.08328 , 56.316372],\n",
       "        [61.106663, 96.51143 ],\n",
       "        [75.02474 , 46.554012],\n",
       "        [76.098785, 87.42057 ],\n",
       "        [84.43282 , 43.533394],\n",
       "        [95.86156 , 38.225277],\n",
       "        [75.01366 , 30.603264],\n",
       "        [82.30705 , 76.481964],\n",
       "        [69.364586, 97.71869 ],\n",
       "        [39.538338, 76.03681 ],\n",
       "        [53.97105 , 89.20735 ],\n",
       "        [69.070145, 52.74047 ],\n",
       "        [67.94685 , 46.678574],\n",
       "        [70.66151 , 92.92714 ],\n",
       "        [76.97878 , 47.575962],\n",
       "        [67.372025, 42.83844 ],\n",
       "        [89.67677 , 65.79936 ],\n",
       "        [50.53479 , 48.855812],\n",
       "        [34.212063, 44.20953 ],\n",
       "        [77.924095, 68.97236 ],\n",
       "        [62.271015, 69.95446 ],\n",
       "        [80.19018 , 44.82163 ],\n",
       "        [93.11439 , 38.80067 ],\n",
       "        [61.830208, 50.256107],\n",
       "        [38.785805, 64.99568 ],\n",
       "        [61.379288, 72.807884],\n",
       "        [85.40452 , 57.051983],\n",
       "        [52.10798 , 63.127625],\n",
       "        [52.045406, 69.43286 ],\n",
       "        [40.236893, 71.16775 ],\n",
       "        [54.635105, 52.213886],\n",
       "        [33.9155  , 98.86944 ],\n",
       "        [64.17699 , 80.90806 ],\n",
       "        [74.78925 , 41.573414],\n",
       "        [34.18364 , 75.23772 ],\n",
       "        [83.9024  , 56.308044],\n",
       "        [51.54772 , 46.85629 ],\n",
       "        [94.44337 , 65.568924],\n",
       "        [82.36875 , 40.618256],\n",
       "        [51.047752, 45.8227  ],\n",
       "        [62.222675, 52.060993],\n",
       "        [77.19303 , 70.4582  ],\n",
       "        [97.7716  , 86.72782 ],\n",
       "        [62.073063, 96.76882 ],\n",
       "        [91.56497 , 88.69629 ],\n",
       "        [79.94482 , 74.16312 ],\n",
       "        [99.27253 , 60.99903 ],\n",
       "        [90.546715, 43.390602],\n",
       "        [34.524513, 60.396343],\n",
       "        [50.286495, 49.80454 ],\n",
       "        [49.586678, 59.808952],\n",
       "        [97.64564 , 68.86157 ],\n",
       "        [32.5772  , 95.59855 ],\n",
       "        [74.24869 , 69.82457 ],\n",
       "        [71.79646 , 78.45356 ],\n",
       "        [75.395615, 85.75993 ],\n",
       "        [35.286114, 47.020515],\n",
       "        [56.25382 , 39.26147 ],\n",
       "        [30.058823, 49.592976],\n",
       "        [44.668262, 66.45009 ],\n",
       "        [66.5609  , 41.0921  ],\n",
       "        [40.45755 , 97.53519 ],\n",
       "        [49.072563, 51.883213],\n",
       "        [80.27957 , 92.11606 ],\n",
       "        [66.74672 , 60.991394],\n",
       "        [32.72283 , 43.307175],\n",
       "        [64.03932 , 78.031685],\n",
       "        [72.3465  , 96.22759 ],\n",
       "        [60.457886, 73.095   ],\n",
       "        [58.840958, 75.85845 ],\n",
       "        [99.82786 , 72.369255],\n",
       "        [47.26427 , 88.47587 ],\n",
       "        [50.45816 , 75.80986 ],\n",
       "        [60.455555, 42.508408],\n",
       "        [82.22666 , 42.71988 ],\n",
       "        [88.913895, 69.80379 ],\n",
       "        [94.8345  , 45.694305],\n",
       "        [67.31926 , 66.589355],\n",
       "        [57.238705, 59.514282],\n",
       "        [80.36675 , 90.96015 ],\n",
       "        [68.46852 , 85.59431 ],\n",
       "        [42.075455, 78.84479 ],\n",
       "        [75.4777  , 90.42454 ],\n",
       "        [78.63542 , 96.64743 ],\n",
       "        [52.348003, 60.769505],\n",
       "        [94.09433 , 77.1591  ],\n",
       "        [90.44855 , 87.50879 ],\n",
       "        [55.482162, 35.5707  ],\n",
       "        [74.49269 , 84.84514 ],\n",
       "        [89.84581 , 45.358284],\n",
       "        [83.48917 , 48.380287],\n",
       "        [42.2617  , 87.10385 ],\n",
       "        [99.31501 , 68.775406],\n",
       "        [55.34002 , 64.93194 ],\n",
       "        [74.775894, 89.529816]], dtype=float32),\n",
       " array([0., 0., 0., 1., 1., 0., 1., 1., 1., 1., 0., 0., 1., 1., 0., 1., 1.,\n",
       "        0., 1., 1., 0., 1., 0., 0., 1., 1., 1., 0., 0., 0., 1., 1., 0., 1.,\n",
       "        0., 0., 0., 1., 0., 0., 1., 0., 1., 0., 0., 0., 1., 1., 1., 1., 1.,\n",
       "        1., 1., 0., 0., 0., 1., 0., 1., 1., 1., 0., 0., 0., 0., 0., 1., 0.,\n",
       "        1., 1., 0., 1., 1., 1., 1., 1., 1., 1., 0., 0., 1., 1., 1., 1., 1.,\n",
       "        1., 0., 1., 1., 0., 1., 1., 0., 1., 1., 1., 1., 1., 1., 1.],\n",
       "       dtype=float32))"
      ]
     },
     "execution_count": 15,
     "metadata": {},
     "output_type": "execute_result"
    }
   ],
   "source": [
    "#set up ones \n",
    "data.shape\n",
    "data\n",
    "X = data[:,0:2]\n",
    "y = data[:, 2]\n",
    "X, y"
   ]
  },
  {
   "cell_type": "code",
   "execution_count": 16,
   "id": "e448f6b1-ac85-4ca3-9425-b8603d0c51de",
   "metadata": {},
   "outputs": [
    {
     "data": {
      "text/plain": [
       "array([[ 1.        , 34.62366104, 78.02469635],\n",
       "       [ 1.        , 30.28671074, 43.89499664],\n",
       "       [ 1.        , 35.84740829, 72.90219879],\n",
       "       [ 1.        , 60.18259811, 86.3085556 ],\n",
       "       [ 1.        , 79.03273773, 75.34437561],\n",
       "       [ 1.        , 45.08327866, 56.31637192],\n",
       "       [ 1.        , 61.10666275, 96.51142883],\n",
       "       [ 1.        , 75.02474213, 46.5540123 ],\n",
       "       [ 1.        , 76.0987854 , 87.42057037],\n",
       "       [ 1.        , 84.43282318, 43.53339386],\n",
       "       [ 1.        , 95.86155701, 38.22527695],\n",
       "       [ 1.        , 75.01365662, 30.60326385],\n",
       "       [ 1.        , 82.30705261, 76.48196411],\n",
       "       [ 1.        , 69.36458588, 97.71868896],\n",
       "       [ 1.        , 39.53833771, 76.03681183],\n",
       "       [ 1.        , 53.97105026, 89.20735168],\n",
       "       [ 1.        , 69.07014465, 52.74047089],\n",
       "       [ 1.        , 67.94685364, 46.67857361],\n",
       "       [ 1.        , 70.66150665, 92.92713928],\n",
       "       [ 1.        , 76.97878265, 47.57596207],\n",
       "       [ 1.        , 67.37202454, 42.83843994],\n",
       "       [ 1.        , 89.67677307, 65.79936218],\n",
       "       [ 1.        , 50.53479004, 48.85581207],\n",
       "       [ 1.        , 34.21206284, 44.20952988],\n",
       "       [ 1.        , 77.92409515, 68.9723587 ],\n",
       "       [ 1.        , 62.27101517, 69.95446014],\n",
       "       [ 1.        , 80.19017792, 44.82162857],\n",
       "       [ 1.        , 93.11438751, 38.80067062],\n",
       "       [ 1.        , 61.83020782, 50.25610733],\n",
       "       [ 1.        , 38.78580475, 64.99568176],\n",
       "       [ 1.        , 61.37928772, 72.80788422],\n",
       "       [ 1.        , 85.40451813, 57.05198288],\n",
       "       [ 1.        , 52.10797882, 63.12762451],\n",
       "       [ 1.        , 52.04540634, 69.43286133],\n",
       "       [ 1.        , 40.2368927 , 71.1677475 ],\n",
       "       [ 1.        , 54.63510513, 52.21388626],\n",
       "       [ 1.        , 33.91550064, 98.86943817],\n",
       "       [ 1.        , 64.17698669, 80.90805817],\n",
       "       [ 1.        , 74.78925323, 41.57341385],\n",
       "       [ 1.        , 34.18363953, 75.23771667],\n",
       "       [ 1.        , 83.90239716, 56.30804443],\n",
       "       [ 1.        , 51.54772186, 46.85628891],\n",
       "       [ 1.        , 94.443367  , 65.56892395],\n",
       "       [ 1.        , 82.36875153, 40.61825562],\n",
       "       [ 1.        , 51.04775238, 45.8227005 ],\n",
       "       [ 1.        , 62.22267532, 52.06099319],\n",
       "       [ 1.        , 77.19303131, 70.45819855],\n",
       "       [ 1.        , 97.77159882, 86.72782135],\n",
       "       [ 1.        , 62.0730629 , 96.76882172],\n",
       "       [ 1.        , 91.56497192, 88.69628906],\n",
       "       [ 1.        , 79.94481659, 74.16311646],\n",
       "       [ 1.        , 99.2725296 , 60.99903107],\n",
       "       [ 1.        , 90.54671478, 43.39060211],\n",
       "       [ 1.        , 34.52451324, 60.39634323],\n",
       "       [ 1.        , 50.28649521, 49.80453873],\n",
       "       [ 1.        , 49.58667755, 59.80895233],\n",
       "       [ 1.        , 97.64563751, 68.86157227],\n",
       "       [ 1.        , 32.57720184, 95.59854889],\n",
       "       [ 1.        , 74.24868774, 69.8245697 ],\n",
       "       [ 1.        , 71.79646301, 78.45355988],\n",
       "       [ 1.        , 75.39561462, 85.75993347],\n",
       "       [ 1.        , 35.28611374, 47.02051544],\n",
       "       [ 1.        , 56.25381851, 39.26147079],\n",
       "       [ 1.        , 30.05882263, 49.59297562],\n",
       "       [ 1.        , 44.66826248, 66.4500885 ],\n",
       "       [ 1.        , 66.56089783, 41.09209824],\n",
       "       [ 1.        , 40.45755005, 97.53518677],\n",
       "       [ 1.        , 49.07256317, 51.88321304],\n",
       "       [ 1.        , 80.27957153, 92.11605835],\n",
       "       [ 1.        , 66.74671936, 60.99139404],\n",
       "       [ 1.        , 32.72283173, 43.30717468],\n",
       "       [ 1.        , 64.0393219 , 78.03168488],\n",
       "       [ 1.        , 72.34649658, 96.22759247],\n",
       "       [ 1.        , 60.45788574, 73.09500122],\n",
       "       [ 1.        , 58.84095764, 75.85845184],\n",
       "       [ 1.        , 99.82785797, 72.36925507],\n",
       "       [ 1.        , 47.26427078, 88.47586823],\n",
       "       [ 1.        , 50.4581604 , 75.80986023],\n",
       "       [ 1.        , 60.45555496, 42.50840759],\n",
       "       [ 1.        , 82.22666168, 42.71987915],\n",
       "       [ 1.        , 88.91389465, 69.80378723],\n",
       "       [ 1.        , 94.83450317, 45.69430542],\n",
       "       [ 1.        , 67.31925964, 66.58935547],\n",
       "       [ 1.        , 57.23870468, 59.51428223],\n",
       "       [ 1.        , 80.36675262, 90.96015167],\n",
       "       [ 1.        , 68.46852112, 85.59430695],\n",
       "       [ 1.        , 42.07545471, 78.8447876 ],\n",
       "       [ 1.        , 75.47769928, 90.42453766],\n",
       "       [ 1.        , 78.63542175, 96.64743042],\n",
       "       [ 1.        , 52.34800339, 60.76950455],\n",
       "       [ 1.        , 94.09432983, 77.15910339],\n",
       "       [ 1.        , 90.44854736, 87.50878906],\n",
       "       [ 1.        , 55.48216248, 35.5707016 ],\n",
       "       [ 1.        , 74.49269104, 84.84513855],\n",
       "       [ 1.        , 89.84580994, 45.358284  ],\n",
       "       [ 1.        , 83.48916626, 48.38028717],\n",
       "       [ 1.        , 42.26169968, 87.10385132],\n",
       "       [ 1.        , 99.31501007, 68.77540588],\n",
       "       [ 1.        , 55.34001923, 64.93193817],\n",
       "       [ 1.        , 74.77589417, 89.52981567]])"
      ]
     },
     "execution_count": 16,
     "metadata": {},
     "output_type": "execute_result"
    }
   ],
   "source": [
    "[m,n] = X.shape\n",
    "one = np.ones((m,1), dtype = float)\n",
    "one.shape\n",
    "X = np.hstack((one, X))\n",
    "\n",
    "X"
   ]
  },
  {
   "cell_type": "code",
   "execution_count": 17,
   "id": "1a86e240-603e-43f5-962f-0f00fa107d3d",
   "metadata": {},
   "outputs": [
    {
     "data": {
      "text/plain": [
       "(3,)"
      ]
     },
     "execution_count": 17,
     "metadata": {},
     "output_type": "execute_result"
    }
   ],
   "source": [
    "initial_theta = np.zeros((n+1))\n",
    "initial_theta.shape\n"
   ]
  },
  {
   "cell_type": "code",
   "execution_count": 18,
   "id": "05fd458b-d436-4159-963b-72191bebc259",
   "metadata": {},
   "outputs": [],
   "source": [
    "def costFunction(theta, X, y): #returns cost and gradient\n",
    "    z = np.dot(X, theta)\n",
    "    hyp = 1/(1 + np.exp(-z))\n",
    "    cost = (-np.dot(y, np.log(hyp))-np.dot((1-y),np.log(1-hyp)))/m\n",
    "    gradient = np.dot((hyp - y), X)  #why not divide by m?\n",
    "    return (cost, gradient)"
   ]
  },
  {
   "cell_type": "code",
   "execution_count": 19,
   "id": "b2d6f059-8c66-42dd-bfeb-1785de55e6bb",
   "metadata": {},
   "outputs": [
    {
     "name": "stdout",
     "output_type": "stream",
     "text": [
      "0.6931471805599453\n",
      "[  -10.         -1200.92164707 -1126.28421021]\n"
     ]
    },
    {
     "data": {
      "text/plain": [
       "(3,)"
      ]
     },
     "execution_count": 19,
     "metadata": {},
     "output_type": "execute_result"
    }
   ],
   "source": [
    "(cost, gradient) = costFunction(initial_theta, X, y)\n",
    "print(cost)\n",
    "print(gradient)\n",
    "gradient.shape #what does the output of the gradient mean, do we now adjust the previous theta by this gradient and run it again?"
   ]
  },
  {
   "cell_type": "markdown",
   "id": "3c8fc0e7-9712-49b9-887a-c5ba50c4f900",
   "metadata": {},
   "source": [
    "### Part 3 - convert fminunc function from octave into numpy/python\n",
    "**what is fminunc** \n",
    "In Octave, the fminunc function is used for minimizing a scalar function of several variables using the unconstrained optimization algorithm known as the *BFGS method (Broyden-Fletcher-Goldfarb-Shanno)*. This method is suitable for optimizing smooth, unconstrained objective functions.\n",
    "\n",
    "**syntax**  \n",
    "[x, fval, info] = fminunc (fun, x0)  \n",
    "[x, fval, info] = fminunc (fun, x0, options)\n",
    "\n",
    "*Parameters:*\n",
    "- fun: The objective function to minimize. It should be a function handle that takes a vector input x and returns a scalar value.\n",
    "- x0: The initial guess for the solution.\n",
    "- options (optional): A structure containing optimization options. You can specify various parameters to control the optimization process.\n",
    "*outputs:*\n",
    "- x: The solution vector that minimizes the objective function.\n",
    "- fval: The value of the objective function at the solution.\n",
    "- info: A structure containing information about the optimization process, such as the number of iterations, convergence status, etc.\n",
    "\n",
    "***what is the BFGS method:***  \n",
    "An optimization algorithm which approximates the inverse Hessian matrix* of a function. The inverse Hessian approximates the curvature of the objective function and is iteratively updated to improve search direction and convergence speed. \n",
    "\n",
    "*pros* since it doesn't compute the inverse Hessian matrix, it's less comoputationally expensive and doesn't actually store the Hessian in memory. Therefore, faster than methods that require computing the Hessian\n",
    "\n",
    "*cons* suffers from numerical instability if updatesto the inverse Hessian approximation become ill-conditioned. \n",
    "\n",
    "**What is Hessian Matrix**  \n",
    "matrix of 2nd order partial derivatives \n",
    "https://machinelearningmastery.com/a-gentle-introduction-to-hessian-matrices/ \n",
    "\n",
    "**Alternative in Python**  \n",
    "Use the *scipy.optimize.minimize* function.\n",
    "Pass in costFunction as your objective function and initial_theta as your initial guess and what we're trying to converge on. Pass the rest of the arguments in args = (). jac = True so that fun is assumed to return a tuple (f, g) containing the objective function and the gradient. Since fminunc uses BFGS, I set method to BFGS. In the exercise, it said to set max iterations as 400. \n",
    "\n",
    "Documentation: https://docs.scipy.org/doc/scipy/reference/generated/scipy.optimize.minimize.html \n"
   ]
  },
  {
   "cell_type": "code",
   "execution_count": 20,
   "id": "f7ebd13c-e970-4fb6-9585-b59533810059",
   "metadata": {},
   "outputs": [
    {
     "data": {
      "text/plain": [
       "(3,)"
      ]
     },
     "execution_count": 20,
     "metadata": {},
     "output_type": "execute_result"
    }
   ],
   "source": [
    "from scipy.optimize import minimize #use scipy.optimize.minimize function, closest thing to fminunc\n",
    "initial_theta = np.zeros((n+1))\n",
    "initial_theta.shape"
   ]
  },
  {
   "cell_type": "code",
   "execution_count": 21,
   "id": "9d50a45c-bcd7-44df-a60b-e3c701e4a8e6",
   "metadata": {},
   "outputs": [
    {
     "name": "stdout",
     "output_type": "stream",
     "text": [
      "         Current function value: 0.203498\n",
      "         Iterations: 72\n",
      "         Function evaluations: 296\n",
      "         Gradient evaluations: 285\n"
     ]
    },
    {
     "name": "stderr",
     "output_type": "stream",
     "text": [
      "/tmp/ipykernel_169/4069235752.py:4: RuntimeWarning: divide by zero encountered in log\n",
      "  cost = (-np.dot(y, np.log(hyp))-np.dot((1-y),np.log(1-hyp)))/m\n",
      "/home/jchen/miniconda3/lib/python3.11/site-packages/scipy/optimize/_minimize.py:708: OptimizeWarning: Desired error not necessarily achieved due to precision loss.\n",
      "  res = _minimize_bfgs(fun, x0, args, jac, callback, **options)\n"
     ]
    }
   ],
   "source": [
    "result = minimize(costFunction, initial_theta, args = (X,y), jac = True, method = 'BFGS', options = {'maxiter': 400, 'disp': True})"
   ]
  },
  {
   "cell_type": "markdown",
   "id": "24dedb39-280c-4755-8168-d1c5d602dc72",
   "metadata": {},
   "source": [
    "https://docs.scipy.org/doc/scipy/reference/optimize.minimize-bfgs.html#optimize-minimize-bfgs \n",
    "\n",
    "If \"Desired error not necessarily achieved due to precision loss\", can consider setting gtol to a higher value \n",
    "Current function value of ~0.203 meets the exercise requirements which also said 0.203."
   ]
  },
  {
   "cell_type": "code",
   "execution_count": 22,
   "id": "25a8a19f-d4cb-4763-880a-5e168fd07543",
   "metadata": {},
   "outputs": [
    {
     "name": "stdout",
     "output_type": "stream",
     "text": [
      "  message: Desired error not necessarily achieved due to precision loss.\n",
      "  success: False\n",
      "   status: 2\n",
      "      fun: 0.203497707293169\n",
      "        x: [-2.516e+01  2.062e-01  2.015e-01]\n",
      "      nit: 72\n",
      "      jac: [-1.702e-06 -9.762e-05 -1.028e-04]\n",
      " hess_inv: [[ 1.486e+01 -1.163e-01 -1.111e-01]\n",
      "            [-1.163e-01  9.956e-04  7.930e-04]\n",
      "            [-1.111e-01  7.930e-04  9.243e-04]]\n",
      "     nfev: 296\n",
      "     njev: 285\n"
     ]
    }
   ],
   "source": [
    "print(result)"
   ]
  },
  {
   "cell_type": "code",
   "execution_count": 23,
   "id": "ee789521-b6af-4205-994f-69abb6199349",
   "metadata": {},
   "outputs": [],
   "source": [
    "result_theta = result.x"
   ]
  },
  {
   "cell_type": "markdown",
   "id": "c92f7082-1f75-48ea-8937-4abcd0b02158",
   "metadata": {},
   "source": [
    "***Plotting Decision Boundary***  \n",
    "Final theta value will be used to plot decision boundary on the training data"
   ]
  },
  {
   "cell_type": "code",
   "execution_count": 24,
   "id": "706414d6-30c9-44cf-b2fa-0baaa40446a2",
   "metadata": {},
   "outputs": [
    {
     "data": {
      "image/png": "[encoded data removed]",
      "text/plain": [
       "<Figure size 640x480 with 1 Axes>"
      ]
     },
     "metadata": {},
     "output_type": "display_data"
    }
   ],
   "source": [
    "def plotData(inputData):\n",
    "    data0 = inputData[inputData[:,2] == 0]\n",
    "    data1 = inputData[inputData[:,2] ==1]\n",
    "    plt.scatter(data0[:,0], data0[:,1], marker = 'o', color = \"C1\")\n",
    "    plt.scatter(data1[:,0], data1[:,1], marker = '+', label = \"admitted\", color = \"C0\")\n",
    "    plt.xlabel(\"Exam 1 score\")\n",
    "    plt.ylabel(\"Exam 2 score\")\n",
    "\n",
    "\n",
    "plotData(data)\n",
    "#made earlier plot into a function to be used in decisionboundary call, but realized that it created 2 separate plots (didn't overlay line onto this scatter plot so just put the code from this function into decisionboundary fxn\n",
    "    "
   ]
  },
  {
   "cell_type": "code",
   "execution_count": 25,
   "id": "f412938d-7934-498b-8ef9-d07dbdfe1569",
   "metadata": {},
   "outputs": [],
   "source": [
    "def plotDecisionBoundary(theta, X, y):\n",
    "    plot_x = np.arange(min(X[:,2]) -2, max(X[:,2] +2), 10) #set x values range for the line\n",
    "    plot_y = (-1/theta[2])*(theta[1]*plot_x + theta[0])\n",
    "    plt.plot(plot_x, plot_y)\n",
    "    data0 = data[data[:,2] == 0]\n",
    "    data1 = data[data[:,2] ==1]\n",
    "    plt.scatter(data0[:,0], data0[:,1], marker = 'o', color = \"C1\")\n",
    "    plt.scatter(data1[:,0], data1[:,1], marker = '+', label = \"admitted\", color = \"C0\")\n",
    "    plt.xlabel(\"Exam 1 score\")\n",
    "    plt.ylabel(\"Exam 2 score\")"
   ]
  },
  {
   "cell_type": "code",
   "execution_count": 26,
   "id": "71234249-5696-4860-baef-d0a24b45dc17",
   "metadata": {},
   "outputs": [
    {
     "data": {
      "image/png": "[encoded data removed]",
      "text/plain": [
       "<Figure size 640x480 with 1 Axes>"
      ]
     },
     "metadata": {},
     "output_type": "display_data"
    }
   ],
   "source": [
    "plotDecisionBoundary(result_theta, X, y)"
   ]
  },
  {
   "cell_type": "markdown",
   "id": "3eea504c-1fcb-4a91-8695-49a1047eff2b",
   "metadata": {},
   "source": [
    "### Evaluating Logistic Regression\n",
    "Use model to predict whether a certain student will be admitted\n",
    "See how well model predicts on our training set"
   ]
  },
  {
   "cell_type": "code",
   "execution_count": 27,
   "id": "75578b1a-fc0e-449f-981f-cc45c6e1e431",
   "metadata": {},
   "outputs": [
    {
     "data": {
      "text/plain": [
       "0.7762905827778007"
      ]
     },
     "execution_count": 27,
     "metadata": {},
     "output_type": "execute_result"
    }
   ],
   "source": [
    "#compute probability that student with scores of 45 and 85 will be admitted, expect ~0.776\n",
    "z = np.dot([1, 45, 85], result_theta)\n",
    "hyp = sigmoid(z)\n",
    "hyp"
   ]
  },
  {
   "cell_type": "code",
   "execution_count": 28,
   "id": "fbda5f6e-908f-45e4-899a-5d9c37fafde7",
   "metadata": {},
   "outputs": [],
   "source": [
    "def predict(theta, X):\n",
    "    m = X.shape[0] #number of training examples\n",
    "    p = np.zeros(m, dtype= float)\n",
    "    for i in range(m):\n",
    "        if sigmoid(np.dot(theta, X[i])) >= 0.5:\n",
    "            p[i] = 1\n",
    "    return p\n"
   ]
  },
  {
   "cell_type": "code",
   "execution_count": 29,
   "id": "32c43ad7-9f1e-4e66-9884-17038d1c708b",
   "metadata": {},
   "outputs": [],
   "source": [
    "p = predict(result_theta, X)\n"
   ]
  },
  {
   "cell_type": "code",
   "execution_count": 30,
   "id": "b99559c0-e161-46c3-a096-561b764d4345",
   "metadata": {},
   "outputs": [
    {
     "data": {
      "text/plain": [
       "0.89"
      ]
     },
     "execution_count": 30,
     "metadata": {},
     "output_type": "execute_result"
    }
   ],
   "source": [
    "#compute accuracy of result\n",
    "accuracy = sum(p ==y) / 100\n",
    "accuracy"
   ]
  },
  {
   "cell_type": "markdown",
   "id": "93cb05de-fb55-4074-af1f-38a400628c24",
   "metadata": {},
   "source": [
    "Reference/tutorial: [ex2.pdf](./ex2.pdf)"
   ]
  },
  {
   "cell_type": "code",
   "execution_count": null,
   "id": "ed568052-2b45-4631-a199-31977a01e74c",
   "metadata": {},
   "outputs": [],
   "source": []
  }
 ],
 "metadata": {
  "kernelspec": {
   "display_name": "Python 3 (ipykernel)",
   "language": "python",
   "name": "python3"
  },
  "language_info": {
   "codemirror_mode": {
    "name": "ipython",
    "version": 3
   },
   "file_extension": ".py",
   "mimetype": "text/x-python",
   "name": "python",
   "nbconvert_exporter": "python",
   "pygments_lexer": "ipython3",
   "version": "3.11.5"
  }
 },
 "nbformat": 4,
 "nbformat_minor": 5
}
