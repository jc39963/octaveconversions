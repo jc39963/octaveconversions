{
 "cells": [
  {
   "cell_type": "markdown",
   "id": "9d438913-3c8c-47d2-8810-84d5367471f0",
   "metadata": {},
   "source": [
    "### Regularized Logistic Regression\n"
   ]
  },
  {
   "cell_type": "code",
   "execution_count": 92,
   "id": "410e761b-359a-49bd-9c10-ade87aa828df",
   "metadata": {},
   "outputs": [],
   "source": [
    "import numpy as np\n",
    "import pandas as pd\n",
    "import matplotlib.pyplot as plt"
   ]
  },
  {
   "cell_type": "code",
   "execution_count": 93,
   "id": "25fd101a-53ca-459d-b673-ff6ceae7de68",
   "metadata": {},
   "outputs": [],
   "source": [
    "data = np.loadtxt(\"ex2data2.txt\", delimiter = \",\", dtype = float)"
   ]
  },
  {
   "cell_type": "code",
   "execution_count": 94,
   "id": "7a9505b9-2c43-431d-b7ee-ad7c8b4897e5",
   "metadata": {},
   "outputs": [
    {
     "data": {
      "text/plain": [
       "array([[ 0.051267 ,  0.69956  ,  1.       ],\n",
       "       [-0.092742 ,  0.68494  ,  1.       ],\n",
       "       [-0.21371  ,  0.69225  ,  1.       ],\n",
       "       [-0.375    ,  0.50219  ,  1.       ],\n",
       "       [-0.51325  ,  0.46564  ,  1.       ],\n",
       "       [-0.52477  ,  0.2098   ,  1.       ],\n",
       "       [-0.39804  ,  0.034357 ,  1.       ],\n",
       "       [-0.30588  , -0.19225  ,  1.       ],\n",
       "       [ 0.016705 , -0.40424  ,  1.       ],\n",
       "       [ 0.13191  , -0.51389  ,  1.       ],\n",
       "       [ 0.38537  , -0.56506  ,  1.       ],\n",
       "       [ 0.52938  , -0.5212   ,  1.       ],\n",
       "       [ 0.63882  , -0.24342  ,  1.       ],\n",
       "       [ 0.73675  , -0.18494  ,  1.       ],\n",
       "       [ 0.54666  ,  0.48757  ,  1.       ],\n",
       "       [ 0.322    ,  0.5826   ,  1.       ],\n",
       "       [ 0.16647  ,  0.53874  ,  1.       ],\n",
       "       [-0.046659 ,  0.81652  ,  1.       ],\n",
       "       [-0.17339  ,  0.69956  ,  1.       ],\n",
       "       [-0.47869  ,  0.63377  ,  1.       ],\n",
       "       [-0.60541  ,  0.59722  ,  1.       ],\n",
       "       [-0.62846  ,  0.33406  ,  1.       ],\n",
       "       [-0.59389  ,  0.005117 ,  1.       ],\n",
       "       [-0.42108  , -0.27266  ,  1.       ],\n",
       "       [-0.11578  , -0.39693  ,  1.       ],\n",
       "       [ 0.20104  , -0.60161  ,  1.       ],\n",
       "       [ 0.46601  , -0.53582  ,  1.       ],\n",
       "       [ 0.67339  , -0.53582  ,  1.       ],\n",
       "       [-0.13882  ,  0.54605  ,  1.       ],\n",
       "       [-0.29435  ,  0.77997  ,  1.       ],\n",
       "       [-0.26555  ,  0.96272  ,  1.       ],\n",
       "       [-0.16187  ,  0.8019   ,  1.       ],\n",
       "       [-0.17339  ,  0.64839  ,  1.       ],\n",
       "       [-0.28283  ,  0.47295  ,  1.       ],\n",
       "       [-0.36348  ,  0.31213  ,  1.       ],\n",
       "       [-0.30012  ,  0.027047 ,  1.       ],\n",
       "       [-0.23675  , -0.21418  ,  1.       ],\n",
       "       [-0.06394  , -0.18494  ,  1.       ],\n",
       "       [ 0.062788 , -0.16301  ,  1.       ],\n",
       "       [ 0.22984  , -0.41155  ,  1.       ],\n",
       "       [ 0.2932   , -0.2288   ,  1.       ],\n",
       "       [ 0.48329  , -0.18494  ,  1.       ],\n",
       "       [ 0.64459  , -0.14108  ,  1.       ],\n",
       "       [ 0.46025  ,  0.012427 ,  1.       ],\n",
       "       [ 0.6273   ,  0.15863  ,  1.       ],\n",
       "       [ 0.57546  ,  0.26827  ,  1.       ],\n",
       "       [ 0.72523  ,  0.44371  ,  1.       ],\n",
       "       [ 0.22408  ,  0.52412  ,  1.       ],\n",
       "       [ 0.44297  ,  0.67032  ,  1.       ],\n",
       "       [ 0.322    ,  0.69225  ,  1.       ],\n",
       "       [ 0.13767  ,  0.57529  ,  1.       ],\n",
       "       [-0.0063364,  0.39985  ,  1.       ],\n",
       "       [-0.092742 ,  0.55336  ,  1.       ],\n",
       "       [-0.20795  ,  0.35599  ,  1.       ],\n",
       "       [-0.20795  ,  0.17325  ,  1.       ],\n",
       "       [-0.43836  ,  0.21711  ,  1.       ],\n",
       "       [-0.21947  , -0.016813 ,  1.       ],\n",
       "       [-0.13882  , -0.27266  ,  1.       ],\n",
       "       [ 0.18376  ,  0.93348  ,  0.       ],\n",
       "       [ 0.22408  ,  0.77997  ,  0.       ],\n",
       "       [ 0.29896  ,  0.61915  ,  0.       ],\n",
       "       [ 0.50634  ,  0.75804  ,  0.       ],\n",
       "       [ 0.61578  ,  0.7288   ,  0.       ],\n",
       "       [ 0.60426  ,  0.59722  ,  0.       ],\n",
       "       [ 0.76555  ,  0.50219  ,  0.       ],\n",
       "       [ 0.92684  ,  0.3633   ,  0.       ],\n",
       "       [ 0.82316  ,  0.27558  ,  0.       ],\n",
       "       [ 0.96141  ,  0.085526 ,  0.       ],\n",
       "       [ 0.93836  ,  0.012427 ,  0.       ],\n",
       "       [ 0.86348  , -0.082602 ,  0.       ],\n",
       "       [ 0.89804  , -0.20687  ,  0.       ],\n",
       "       [ 0.85196  , -0.36769  ,  0.       ],\n",
       "       [ 0.82892  , -0.5212   ,  0.       ],\n",
       "       [ 0.79435  , -0.55775  ,  0.       ],\n",
       "       [ 0.59274  , -0.7405   ,  0.       ],\n",
       "       [ 0.51786  , -0.5943   ,  0.       ],\n",
       "       [ 0.46601  , -0.41886  ,  0.       ],\n",
       "       [ 0.35081  , -0.57968  ,  0.       ],\n",
       "       [ 0.28744  , -0.76974  ,  0.       ],\n",
       "       [ 0.085829 , -0.75512  ,  0.       ],\n",
       "       [ 0.14919  , -0.57968  ,  0.       ],\n",
       "       [-0.13306  , -0.4481   ,  0.       ],\n",
       "       [-0.40956  , -0.41155  ,  0.       ],\n",
       "       [-0.39228  , -0.25804  ,  0.       ],\n",
       "       [-0.74366  , -0.25804  ,  0.       ],\n",
       "       [-0.69758  ,  0.041667 ,  0.       ],\n",
       "       [-0.75518  ,  0.2902   ,  0.       ],\n",
       "       [-0.69758  ,  0.68494  ,  0.       ],\n",
       "       [-0.4038   ,  0.70687  ,  0.       ],\n",
       "       [-0.38076  ,  0.91886  ,  0.       ],\n",
       "       [-0.50749  ,  0.90424  ,  0.       ],\n",
       "       [-0.54781  ,  0.70687  ,  0.       ],\n",
       "       [ 0.10311  ,  0.77997  ,  0.       ],\n",
       "       [ 0.057028 ,  0.91886  ,  0.       ],\n",
       "       [-0.10426  ,  0.99196  ,  0.       ],\n",
       "       [-0.081221 ,  1.1089   ,  0.       ],\n",
       "       [ 0.28744  ,  1.087    ,  0.       ],\n",
       "       [ 0.39689  ,  0.82383  ,  0.       ],\n",
       "       [ 0.63882  ,  0.88962  ,  0.       ],\n",
       "       [ 0.82316  ,  0.66301  ,  0.       ],\n",
       "       [ 0.67339  ,  0.64108  ,  0.       ],\n",
       "       [ 1.0709   ,  0.10015  ,  0.       ],\n",
       "       [-0.046659 , -0.57968  ,  0.       ],\n",
       "       [-0.23675  , -0.63816  ,  0.       ],\n",
       "       [-0.15035  , -0.36769  ,  0.       ],\n",
       "       [-0.49021  , -0.3019   ,  0.       ],\n",
       "       [-0.46717  , -0.13377  ,  0.       ],\n",
       "       [-0.28859  , -0.060673 ,  0.       ],\n",
       "       [-0.61118  , -0.067982 ,  0.       ],\n",
       "       [-0.66302  , -0.21418  ,  0.       ],\n",
       "       [-0.59965  , -0.41886  ,  0.       ],\n",
       "       [-0.72638  , -0.082602 ,  0.       ],\n",
       "       [-0.83007  ,  0.31213  ,  0.       ],\n",
       "       [-0.72062  ,  0.53874  ,  0.       ],\n",
       "       [-0.59389  ,  0.49488  ,  0.       ],\n",
       "       [-0.48445  ,  0.99927  ,  0.       ],\n",
       "       [-0.0063364,  0.99927  ,  0.       ],\n",
       "       [ 0.63265  , -0.030612 ,  0.       ]])"
      ]
     },
     "execution_count": 94,
     "metadata": {},
     "output_type": "execute_result"
    }
   ],
   "source": [
    "data"
   ]
  },
  {
   "cell_type": "code",
   "execution_count": 95,
   "id": "365fce24-46fb-4116-aea5-e18dd44674ef",
   "metadata": {},
   "outputs": [
    {
     "data": {
      "text/plain": [
       "numpy.float64"
      ]
     },
     "execution_count": 95,
     "metadata": {},
     "output_type": "execute_result"
    }
   ],
   "source": [
    "type(data[0][0])"
   ]
  },
  {
   "cell_type": "code",
   "execution_count": 96,
   "id": "85fe9ab0-ca2b-43c0-9cc2-290c26ee6fd0",
   "metadata": {},
   "outputs": [
    {
     "data": {
      "text/plain": [
       "(118, 3)"
      ]
     },
     "execution_count": 96,
     "metadata": {},
     "output_type": "execute_result"
    }
   ],
   "source": [
    "data.shape"
   ]
  },
  {
   "cell_type": "code",
   "execution_count": 97,
   "id": "13ce0029-e2c4-4860-b4f2-9a729bb31704",
   "metadata": {},
   "outputs": [
    {
     "data": {
      "text/plain": [
       "array([[ 0.051267 ,  0.69956  ],\n",
       "       [-0.092742 ,  0.68494  ],\n",
       "       [-0.21371  ,  0.69225  ],\n",
       "       [-0.375    ,  0.50219  ],\n",
       "       [-0.51325  ,  0.46564  ],\n",
       "       [-0.52477  ,  0.2098   ],\n",
       "       [-0.39804  ,  0.034357 ],\n",
       "       [-0.30588  , -0.19225  ],\n",
       "       [ 0.016705 , -0.40424  ],\n",
       "       [ 0.13191  , -0.51389  ],\n",
       "       [ 0.38537  , -0.56506  ],\n",
       "       [ 0.52938  , -0.5212   ],\n",
       "       [ 0.63882  , -0.24342  ],\n",
       "       [ 0.73675  , -0.18494  ],\n",
       "       [ 0.54666  ,  0.48757  ],\n",
       "       [ 0.322    ,  0.5826   ],\n",
       "       [ 0.16647  ,  0.53874  ],\n",
       "       [-0.046659 ,  0.81652  ],\n",
       "       [-0.17339  ,  0.69956  ],\n",
       "       [-0.47869  ,  0.63377  ],\n",
       "       [-0.60541  ,  0.59722  ],\n",
       "       [-0.62846  ,  0.33406  ],\n",
       "       [-0.59389  ,  0.005117 ],\n",
       "       [-0.42108  , -0.27266  ],\n",
       "       [-0.11578  , -0.39693  ],\n",
       "       [ 0.20104  , -0.60161  ],\n",
       "       [ 0.46601  , -0.53582  ],\n",
       "       [ 0.67339  , -0.53582  ],\n",
       "       [-0.13882  ,  0.54605  ],\n",
       "       [-0.29435  ,  0.77997  ],\n",
       "       [-0.26555  ,  0.96272  ],\n",
       "       [-0.16187  ,  0.8019   ],\n",
       "       [-0.17339  ,  0.64839  ],\n",
       "       [-0.28283  ,  0.47295  ],\n",
       "       [-0.36348  ,  0.31213  ],\n",
       "       [-0.30012  ,  0.027047 ],\n",
       "       [-0.23675  , -0.21418  ],\n",
       "       [-0.06394  , -0.18494  ],\n",
       "       [ 0.062788 , -0.16301  ],\n",
       "       [ 0.22984  , -0.41155  ],\n",
       "       [ 0.2932   , -0.2288   ],\n",
       "       [ 0.48329  , -0.18494  ],\n",
       "       [ 0.64459  , -0.14108  ],\n",
       "       [ 0.46025  ,  0.012427 ],\n",
       "       [ 0.6273   ,  0.15863  ],\n",
       "       [ 0.57546  ,  0.26827  ],\n",
       "       [ 0.72523  ,  0.44371  ],\n",
       "       [ 0.22408  ,  0.52412  ],\n",
       "       [ 0.44297  ,  0.67032  ],\n",
       "       [ 0.322    ,  0.69225  ],\n",
       "       [ 0.13767  ,  0.57529  ],\n",
       "       [-0.0063364,  0.39985  ],\n",
       "       [-0.092742 ,  0.55336  ],\n",
       "       [-0.20795  ,  0.35599  ],\n",
       "       [-0.20795  ,  0.17325  ],\n",
       "       [-0.43836  ,  0.21711  ],\n",
       "       [-0.21947  , -0.016813 ],\n",
       "       [-0.13882  , -0.27266  ],\n",
       "       [ 0.18376  ,  0.93348  ],\n",
       "       [ 0.22408  ,  0.77997  ],\n",
       "       [ 0.29896  ,  0.61915  ],\n",
       "       [ 0.50634  ,  0.75804  ],\n",
       "       [ 0.61578  ,  0.7288   ],\n",
       "       [ 0.60426  ,  0.59722  ],\n",
       "       [ 0.76555  ,  0.50219  ],\n",
       "       [ 0.92684  ,  0.3633   ],\n",
       "       [ 0.82316  ,  0.27558  ],\n",
       "       [ 0.96141  ,  0.085526 ],\n",
       "       [ 0.93836  ,  0.012427 ],\n",
       "       [ 0.86348  , -0.082602 ],\n",
       "       [ 0.89804  , -0.20687  ],\n",
       "       [ 0.85196  , -0.36769  ],\n",
       "       [ 0.82892  , -0.5212   ],\n",
       "       [ 0.79435  , -0.55775  ],\n",
       "       [ 0.59274  , -0.7405   ],\n",
       "       [ 0.51786  , -0.5943   ],\n",
       "       [ 0.46601  , -0.41886  ],\n",
       "       [ 0.35081  , -0.57968  ],\n",
       "       [ 0.28744  , -0.76974  ],\n",
       "       [ 0.085829 , -0.75512  ],\n",
       "       [ 0.14919  , -0.57968  ],\n",
       "       [-0.13306  , -0.4481   ],\n",
       "       [-0.40956  , -0.41155  ],\n",
       "       [-0.39228  , -0.25804  ],\n",
       "       [-0.74366  , -0.25804  ],\n",
       "       [-0.69758  ,  0.041667 ],\n",
       "       [-0.75518  ,  0.2902   ],\n",
       "       [-0.69758  ,  0.68494  ],\n",
       "       [-0.4038   ,  0.70687  ],\n",
       "       [-0.38076  ,  0.91886  ],\n",
       "       [-0.50749  ,  0.90424  ],\n",
       "       [-0.54781  ,  0.70687  ],\n",
       "       [ 0.10311  ,  0.77997  ],\n",
       "       [ 0.057028 ,  0.91886  ],\n",
       "       [-0.10426  ,  0.99196  ],\n",
       "       [-0.081221 ,  1.1089   ],\n",
       "       [ 0.28744  ,  1.087    ],\n",
       "       [ 0.39689  ,  0.82383  ],\n",
       "       [ 0.63882  ,  0.88962  ],\n",
       "       [ 0.82316  ,  0.66301  ],\n",
       "       [ 0.67339  ,  0.64108  ],\n",
       "       [ 1.0709   ,  0.10015  ],\n",
       "       [-0.046659 , -0.57968  ],\n",
       "       [-0.23675  , -0.63816  ],\n",
       "       [-0.15035  , -0.36769  ],\n",
       "       [-0.49021  , -0.3019   ],\n",
       "       [-0.46717  , -0.13377  ],\n",
       "       [-0.28859  , -0.060673 ],\n",
       "       [-0.61118  , -0.067982 ],\n",
       "       [-0.66302  , -0.21418  ],\n",
       "       [-0.59965  , -0.41886  ],\n",
       "       [-0.72638  , -0.082602 ],\n",
       "       [-0.83007  ,  0.31213  ],\n",
       "       [-0.72062  ,  0.53874  ],\n",
       "       [-0.59389  ,  0.49488  ],\n",
       "       [-0.48445  ,  0.99927  ],\n",
       "       [-0.0063364,  0.99927  ],\n",
       "       [ 0.63265  , -0.030612 ]])"
      ]
     },
     "execution_count": 97,
     "metadata": {},
     "output_type": "execute_result"
    }
   ],
   "source": [
    "X = data[:, 0:2]\n",
    "X"
   ]
  },
  {
   "cell_type": "code",
   "execution_count": 98,
   "id": "002f70bf-d410-4d89-a1b3-53bde85986aa",
   "metadata": {},
   "outputs": [
    {
     "name": "stdout",
     "output_type": "stream",
     "text": [
      "(118, 2)\n"
     ]
    }
   ],
   "source": [
    "X\n",
    "print(X.shape)\n"
   ]
  },
  {
   "cell_type": "code",
   "execution_count": 99,
   "id": "29dac7c3-c9f7-4ef5-b718-5799735434d2",
   "metadata": {},
   "outputs": [],
   "source": [
    "y = data[:, 2]"
   ]
  },
  {
   "cell_type": "code",
   "execution_count": 100,
   "id": "c947b0c0-8ca6-49d5-b265-fc5b722cfbfe",
   "metadata": {},
   "outputs": [
    {
     "data": {
      "text/plain": [
       "(118,)"
      ]
     },
     "execution_count": 100,
     "metadata": {},
     "output_type": "execute_result"
    }
   ],
   "source": [
    "y.shape\n"
   ]
  },
  {
   "cell_type": "markdown",
   "id": "d84b12ad-33af-432f-af32-623728434400",
   "metadata": {},
   "source": [
    "***Plotting Data***  \n",
    "Plot shows us the data cannot have a clean / straight decision boundary line and is likely prone to be overfit if we use straightforward logistic regression"
   ]
  },
  {
   "cell_type": "code",
   "execution_count": 101,
   "id": "9ce69890-eb93-4610-94a5-ff7b171a035c",
   "metadata": {},
   "outputs": [],
   "source": [
    "def plotData(inputData):\n",
    "    x0 = inputData[inputData[:, 2] == 0]\n",
    "    x1 = inputData[inputData[:, 2] == 1]\n",
    "    yes = plt.scatter(x0[:,0], x0[:, 1], marker = 'o', color = 'C1')\n",
    "    no = plt.scatter(x1[:,0], x1[:, 1], marker = 'x', color = 'C0')\n",
    "    plt.xlabel('Microchip Test 1')\n",
    "    plt.ylabel('Microchip Test 2')\n",
    "    plt.legend((yes, no), ('y = 0', 'y = 1'), loc = 'upper right')"
   ]
  },
  {
   "cell_type": "code",
   "execution_count": 102,
   "id": "fedc1b46-861c-40b9-b7a2-ada9ff37d1c1",
   "metadata": {},
   "outputs": [
    {
     "data": {
      "image/png": "[encoded data removed]",
      "text/plain": [
       "<Figure size 640x480 with 1 Axes>"
      ]
     },
     "metadata": {},
     "output_type": "display_data"
    }
   ],
   "source": [
    "plotData(data)"
   ]
  },
  {
   "cell_type": "markdown",
   "id": "847944b0-062e-4af4-b58c-cd188e61148a",
   "metadata": {},
   "source": [
    "***Feature mapping***"
   ]
  },
  {
   "cell_type": "code",
   "execution_count": 103,
   "id": "9bcb80df-684c-4a2f-97d1-eaa237b43408",
   "metadata": {},
   "outputs": [],
   "source": [
    "def mapFeature(X1, X2):\n",
    "    degrees = 6\n",
    "    X1 = np.reshape(X1, (X1.size, 1))\n",
    "    X2 = np.reshape(X2, (X2.size, 1))\n",
    "    #print(X1.shape)\n",
    "    #print(X2.shape)\n",
    "    output = np.ones((X1.size, 1))\n",
    "    #print(output)\n",
    "    for i in range(1, degrees + 1):\n",
    "        for j in range(i + 1):\n",
    "            new_col = (X1**(i - j)) *(X2**j)\n",
    "            output = np.append(output, new_col, axis=1)\n",
    "    #print(output.shape)        \n",
    "    return output\n",
    "\n",
    "    \n",
    "    "
   ]
  },
  {
   "cell_type": "code",
   "execution_count": 104,
   "id": "e776dcdb-50cd-4c5b-8dd5-27f41591283f",
   "metadata": {},
   "outputs": [
    {
     "name": "stdout",
     "output_type": "stream",
     "text": [
      "(118, 28)\n"
     ]
    }
   ],
   "source": [
    "\n",
    "newX = mapFeature(X[:,0], X[:,1])\n",
    "newX\n",
    "print(np.shape(newX))"
   ]
  },
  {
   "cell_type": "markdown",
   "id": "6b14e6ce-06f7-4343-b563-e6050813bbba",
   "metadata": {},
   "source": [
    "***Regularized Logistic Regression***"
   ]
  },
  {
   "cell_type": "code",
   "execution_count": 105,
   "id": "8cda7927-9a6c-44a2-a437-c9e5bc1ef938",
   "metadata": {},
   "outputs": [],
   "source": [
    "def costFunctionReg(theta, X, y, lam):\n",
    "    m = y.shape[0]\n",
    "    grad = np.zeros(theta.shape)\n",
    "    z = np.dot(X, theta)\n",
    "    hyp = 1/(1 + np.exp(-z))\n",
    "    cost = ((-np.dot(y, np.log(hyp))-np.dot((1-y),np.log(1-hyp)))/m) + (lam/(2*m))*np.dot(theta, theta)\n",
    "    grad = np.dot((hyp - y), X) / m + (lam / m) * theta\n",
    "\n",
    "    return (cost, grad)\n",
    "    "
   ]
  },
  {
   "cell_type": "code",
   "execution_count": 106,
   "id": "9f9745f6-3cc9-40c4-8f3b-6c4e77d1df61",
   "metadata": {},
   "outputs": [
    {
     "data": {
      "text/plain": [
       "(28,)"
      ]
     },
     "execution_count": 106,
     "metadata": {},
     "output_type": "execute_result"
    }
   ],
   "source": [
    "initial_theta = np.zeros((newX.shape[1], ))\n",
    "lam = 1\n",
    "\n",
    "initial_theta.shape\n",
    "\n"
   ]
  },
  {
   "cell_type": "code",
   "execution_count": 107,
   "id": "22589fea-a344-4069-82de-b493c4acf062",
   "metadata": {},
   "outputs": [],
   "source": [
    "[cost, grad] = costFunctionReg(initial_theta, newX, y, lam)"
   ]
  },
  {
   "cell_type": "code",
   "execution_count": 108,
   "id": "10e04c3f-7249-45d7-8f9b-9109325bad60",
   "metadata": {},
   "outputs": [
    {
     "data": {
      "text/plain": [
       "0.6931471805599454"
      ]
     },
     "execution_count": 108,
     "metadata": {},
     "output_type": "execute_result"
    }
   ],
   "source": [
    "cost"
   ]
  },
  {
   "cell_type": "code",
   "execution_count": 109,
   "id": "772b5837-6b7d-41e0-a22d-93d7f56f8914",
   "metadata": {},
   "outputs": [
    {
     "data": {
      "text/plain": [
       "array([8.47457627e-03, 1.87880932e-02, 7.77711864e-05, 5.03446395e-02,\n",
       "       1.15013308e-02, 3.76648474e-02, 1.83559872e-02, 7.32393391e-03,\n",
       "       8.19244468e-03, 2.34764889e-02, 3.93486234e-02, 2.23923907e-03,\n",
       "       1.28600503e-02, 3.09593720e-03, 3.93028171e-02, 1.99707467e-02,\n",
       "       4.32983232e-03, 3.38643902e-03, 5.83822078e-03, 4.47629067e-03,\n",
       "       3.10079849e-02, 3.10312442e-02, 1.09740238e-03, 6.31570797e-03,\n",
       "       4.08503006e-04, 7.26504316e-03, 1.37646175e-03, 3.87936363e-02])"
      ]
     },
     "execution_count": 109,
     "metadata": {},
     "output_type": "execute_result"
    }
   ],
   "source": [
    "grad"
   ]
  },
  {
   "cell_type": "markdown",
   "id": "7587cd73-a7f9-4c48-9f09-a3299e0f795a",
   "metadata": {},
   "source": [
    "***Optimize***  \n",
    "Similar to last time, convert fminunc from Octave in Python to optimize regression"
   ]
  },
  {
   "cell_type": "code",
   "execution_count": 142,
   "id": "c6bba761-e193-4e5d-be0f-b61d83c5b8b4",
   "metadata": {},
   "outputs": [
    {
     "name": "stdout",
     "output_type": "stream",
     "text": [
      "Optimization terminated successfully.\n",
      "         Current function value: 0.535160\n",
      "         Iterations: 46\n",
      "         Function evaluations: 47\n",
      "         Gradient evaluations: 47\n"
     ]
    }
   ],
   "source": [
    "from scipy.optimize import minimize #use scipy.optimize.minimize function, closest thing to fminunc\n",
    "result = minimize(costFunctionReg, initial_theta, args = (newX,y, lam), jac = True, method = 'BFGS', options = {'gtol': 1e-05, 'disp': True}) \n",
    "#similar to last time but with current variables, add lam as an argument too\n",
    "#gtol is gradient tolerance, and is used to determine when an optimization algorithm should terminate by setting a threshold for the gradient's norm (i.e., the measure of the rate of change of the function at the current point). If the norm of the gradient is below this threshold, the algorithm assumes that it is close enough to a minimum (since a gradient of zero indicates a local minimum for smooth functions) and stops iterating."
   ]
  },
  {
   "cell_type": "code",
   "execution_count": 111,
   "id": "7fb25e9f-5991-4502-aad3-22cd3d250927",
   "metadata": {},
   "outputs": [
    {
     "name": "stdout",
     "output_type": "stream",
     "text": [
      "  message: Optimization terminated successfully.\n",
      "  success: True\n",
      "   status: 0\n",
      "      fun: 0.5351602589479554\n",
      "        x: [ 1.142e+00  6.016e-01 ... -1.380e-01 -9.319e-01]\n",
      "      nit: 46\n",
      "      jac: [ 6.316e-07  3.019e-06 ...  3.751e-08 -7.014e-07]\n",
      " hess_inv: [[ 9.281e+00  3.685e-01 ...  1.367e-01 -5.482e-01]\n",
      "            [ 3.685e-01  1.271e+01 ... -3.098e-01 -1.459e+00]\n",
      "            ...\n",
      "            [ 1.367e-01 -3.098e-01 ...  3.258e+00  3.252e+00]\n",
      "            [-5.482e-01 -1.459e+00 ...  3.252e+00  2.444e+01]]\n",
      "     nfev: 47\n",
      "     njev: 47\n"
     ]
    }
   ],
   "source": [
    "print(result)"
   ]
  },
  {
   "cell_type": "code",
   "execution_count": 112,
   "id": "d1db564a-14cf-499e-ae47-8d2f6b338621",
   "metadata": {},
   "outputs": [
    {
     "data": {
      "text/plain": [
       "(array([ 1.14216777,  0.60159663,  1.16719545, -1.87133829, -0.91585491,\n",
       "        -1.27009709,  0.12635743, -0.36845898, -0.34493717, -0.17359465,\n",
       "        -1.42386126, -0.04896996, -0.60654119, -0.26932569, -1.16298464,\n",
       "        -0.24354149, -0.20689069, -0.0433884 , -0.28027298, -0.28676043,\n",
       "        -0.46905353, -1.03650746,  0.02900085, -0.29266121,  0.01716382,\n",
       "        -0.32900567, -0.13798774, -0.93193359]),\n",
       " 0.5351602589479554)"
      ]
     },
     "execution_count": 112,
     "metadata": {},
     "output_type": "execute_result"
    }
   ],
   "source": [
    "theta = result.x\n",
    "cost = result.fun\n",
    "(theta, cost)"
   ]
  },
  {
   "cell_type": "markdown",
   "id": "23fb2a7d-e8b5-4923-81a5-237e75f9ef96",
   "metadata": {},
   "source": [
    "***Compare predictions and true values***  \n",
    "Let's calculate the predictions using the result and see how accurate they are compared to our true y values  \n",
    "We'll make anything over 0.65 in our hypothesis as 1  \n",
    "Then subtract those from the true y array to create an array where 0 means it was correct and anything else means incorrect  \n",
    "Check how many were correct or not"
   ]
  },
  {
   "cell_type": "code",
   "execution_count": 113,
   "id": "dea8c2ca-fa2d-4884-a2bb-f13bae76d51d",
   "metadata": {},
   "outputs": [
    {
     "data": {
      "text/plain": [
       "array([0.68663198, 0.70640447, 0.689426  , 0.71636954, 0.63906188,\n",
       "       0.60728381, 0.64791756, 0.61051084, 0.61282075, 0.56202675,\n",
       "       0.52099295, 0.50626644, 0.56537929, 0.4691064 , 0.61605727,\n",
       "       0.69935759, 0.76084741, 0.55403125, 0.68979785, 0.61755513,\n",
       "       0.51785317, 0.52200034, 0.47545411, 0.49998281, 0.58182129,\n",
       "       0.498847  , 0.52235954, 0.39127374, 0.76615247, 0.5844632 ,\n",
       "       0.24582918, 0.57890982, 0.72314215, 0.75187414, 0.72340799,\n",
       "       0.69320087, 0.63172011, 0.69562009, 0.72263395, 0.63238289,\n",
       "       0.70614332, 0.67781592, 0.58671826, 0.72393756, 0.62806278,\n",
       "       0.66257921, 0.4139552 , 0.75529373, 0.55133386, 0.60665053,\n",
       "       0.7514089 , 0.79499737, 0.76810902, 0.77321833, 0.75515111,\n",
       "       0.67130971, 0.70936798, 0.64013037, 0.23883808, 0.53609156,\n",
       "       0.68459314, 0.36372969, 0.28586138, 0.46735313, 0.30479061,\n",
       "       0.10698896, 0.31045482, 0.10231707, 0.13845258, 0.26842733,\n",
       "       0.19452998, 0.23630845, 0.21209755, 0.23861456, 0.27780248,\n",
       "       0.45606634, 0.59479202, 0.51446122, 0.32327281, 0.32308538,\n",
       "       0.51282405, 0.54324491, 0.42314587, 0.52793104, 0.18905707,\n",
       "       0.35811414, 0.33189112, 0.34381311, 0.61487318, 0.31016036,\n",
       "       0.27143713, 0.50923049, 0.5819239 , 0.31889033, 0.18488657,\n",
       "       0.02892418, 0.0176571 , 0.34309805, 0.06683506, 0.10319622,\n",
       "       0.32290912, 0.01687022, 0.47097987, 0.34342629, 0.58710129,\n",
       "       0.42883379, 0.5355172 , 0.67044899, 0.42603145, 0.29937115,\n",
       "       0.26051896, 0.27464485, 0.2131258 , 0.37864549, 0.56016065,\n",
       "       0.12309674, 0.15718473, 0.61602001])"
      ]
     },
     "execution_count": 113,
     "metadata": {},
     "output_type": "execute_result"
    }
   ],
   "source": [
    "z = np.dot(newX, theta)\n",
    "h = 1 / (1 + np.exp(-z))\n",
    "h"
   ]
  },
  {
   "cell_type": "code",
   "execution_count": 114,
   "id": "eaeb2f48-caf1-4408-836d-e93b84d184d2",
   "metadata": {},
   "outputs": [
    {
     "data": {
      "text/plain": [
       "array([1., 1., 1., 1., 0., 0., 0., 0., 0., 0., 0., 0., 0., 0., 0., 1., 1.,\n",
       "       0., 1., 0., 0., 0., 0., 0., 0., 0., 0., 0., 1., 0., 0., 0., 1., 1.,\n",
       "       1., 1., 0., 1., 1., 0., 1., 1., 0., 1., 0., 1., 0., 1., 0., 0., 1.,\n",
       "       1., 1., 1., 1., 1., 1., 0., 0., 0., 1., 0., 0., 0., 0., 0., 0., 0.,\n",
       "       0., 0., 0., 0., 0., 0., 0., 0., 0., 0., 0., 0., 0., 0., 0., 0., 0.,\n",
       "       0., 0., 0., 0., 0., 0., 0., 0., 0., 0., 0., 0., 0., 0., 0., 0., 0.,\n",
       "       0., 0., 0., 0., 0., 1., 0., 0., 0., 0., 0., 0., 0., 0., 0., 0.])"
      ]
     },
     "execution_count": 114,
     "metadata": {},
     "output_type": "execute_result"
    }
   ],
   "source": [
    "h[h >= 0.65] = 1\n",
    "h[h < 0.65] = 0\n",
    "h"
   ]
  },
  {
   "cell_type": "code",
   "execution_count": 115,
   "id": "9f8f92e0-43b3-4640-8ba7-545cf7dafb15",
   "metadata": {},
   "outputs": [
    {
     "data": {
      "text/plain": [
       "array([ 0.,  0.,  0.,  0.,  1.,  1.,  1.,  1.,  1.,  1.,  1.,  1.,  1.,\n",
       "        1.,  1.,  0.,  0.,  1.,  0.,  1.,  1.,  1.,  1.,  1.,  1.,  1.,\n",
       "        1.,  1.,  0.,  1.,  1.,  1.,  0.,  0.,  0.,  0.,  1.,  0.,  0.,\n",
       "        1.,  0.,  0.,  1.,  0.,  1.,  0.,  1.,  0.,  1.,  1.,  0.,  0.,\n",
       "        0.,  0.,  0.,  0.,  0.,  1.,  0.,  0., -1.,  0.,  0.,  0.,  0.,\n",
       "        0.,  0.,  0.,  0.,  0.,  0.,  0.,  0.,  0.,  0.,  0.,  0.,  0.,\n",
       "        0.,  0.,  0.,  0.,  0.,  0.,  0.,  0.,  0.,  0.,  0.,  0.,  0.,\n",
       "        0.,  0.,  0.,  0.,  0.,  0.,  0.,  0.,  0.,  0.,  0.,  0.,  0.,\n",
       "        0.,  0.,  0., -1.,  0.,  0.,  0.,  0.,  0.,  0.,  0.,  0.,  0.,\n",
       "        0.])"
      ]
     },
     "execution_count": 115,
     "metadata": {},
     "output_type": "execute_result"
    }
   ],
   "source": [
    "differences = y - h\n",
    "differences"
   ]
  },
  {
   "cell_type": "code",
   "execution_count": 116,
   "id": "d52f0f19-ac33-4361-a0fd-ad48cb026b1e",
   "metadata": {},
   "outputs": [
    {
     "data": {
      "text/plain": [
       "84"
      ]
     },
     "execution_count": 116,
     "metadata": {},
     "output_type": "execute_result"
    }
   ],
   "source": [
    "correct = np.sum(differences == 0)\n",
    "correct "
   ]
  },
  {
   "cell_type": "code",
   "execution_count": 117,
   "id": "21dc4094-032b-4b50-8455-ae8a2e246799",
   "metadata": {},
   "outputs": [
    {
     "data": {
      "text/plain": [
       "34"
      ]
     },
     "execution_count": 117,
     "metadata": {},
     "output_type": "execute_result"
    }
   ],
   "source": [
    "incorrect = np.sum(differences ==1) + np.sum(differences == -1)\n",
    "incorrect"
   ]
  },
  {
   "cell_type": "code",
   "execution_count": 118,
   "id": "fcd2d608-aab7-46b5-8e98-8d0e031189b3",
   "metadata": {},
   "outputs": [],
   "source": [
    "#calculate true positives\n",
    "tp = np.count_nonzero(y == 1) - np.count_nonzero(differences == 1)"
   ]
  },
  {
   "cell_type": "code",
   "execution_count": 119,
   "id": "4e78713a-8ab6-4137-b50f-0f440796934a",
   "metadata": {},
   "outputs": [],
   "source": [
    "#calculate the true negatives\n",
    "tn = np.count_nonzero(differences == 0) - tp"
   ]
  },
  {
   "cell_type": "code",
   "execution_count": 120,
   "id": "132987bd-0932-4002-9b31-5a5784f16646",
   "metadata": {},
   "outputs": [],
   "source": [
    "#calculate false positives\n",
    "fp = np.count_nonzero(differences == -1)"
   ]
  },
  {
   "cell_type": "code",
   "execution_count": 121,
   "id": "f4ce6f75-11f8-4257-8f2c-89b42c162925",
   "metadata": {},
   "outputs": [],
   "source": [
    "#calculate false negatives\n",
    "fn = np.count_nonzero(differences == 1)"
   ]
  },
  {
   "cell_type": "code",
   "execution_count": 122,
   "id": "eb0ad7e8-46c2-436f-9274-f2308e58aa9c",
   "metadata": {},
   "outputs": [
    {
     "name": "stdout",
     "output_type": "stream",
     "text": [
      "true positives:  26\n",
      "true negatives:  58\n",
      "false positives:  2\n",
      "false negatives:  32\n"
     ]
    }
   ],
   "source": [
    "print('true positives: ', tp)\n",
    "print('true negatives: ', tn)\n",
    "print('false positives: ', fp)\n",
    "print('false negatives: ', fn)"
   ]
  },
  {
   "cell_type": "code",
   "execution_count": 123,
   "id": "31c6de7a-03a1-4eed-8a22-528af18a3807",
   "metadata": {},
   "outputs": [],
   "source": [
    "#plot confusion matrix\n",
    "import matplotlib.pyplot as plt\n",
    "from sklearn.metrics import confusion_matrix\n",
    "import seaborn as sns\n"
   ]
  },
  {
   "cell_type": "code",
   "execution_count": 124,
   "id": "215a438d-d84a-4621-9f5c-1bbdf045b50a",
   "metadata": {},
   "outputs": [
    {
     "data": {
      "image/png": "[encoded data removed]",
      "text/plain": [
       "<Figure size 800x600 with 2 Axes>"
      ]
     },
     "metadata": {},
     "output_type": "display_data"
    }
   ],
   "source": [
    "cm = confusion_matrix(y, h)\n",
    "plt.figure(figsize=(8,6))\n",
    "sns.heatmap(cm, annot=True, fmt=\"d\", cmap='Blues')\n",
    "plt.title('Confusion Matrix')\n",
    "plt.ylabel('Actual Labels')\n",
    "plt.xlabel('Predicted Labels')\n",
    "plt.show()"
   ]
  },
  {
   "cell_type": "markdown",
   "id": "11de6f45-8385-4b6a-a797-a680f3036a73",
   "metadata": {},
   "source": [
    "***Calculate metrics like accuracy, precision, recall***  \n",
    "Accuracy: percent of values that are correctly classified  \n",
    "$\\frac {tp + tn} {tp + fp + fn + fn}$  \n",
    "Precision: percent of correctly predicted cases that are actually positive  \n",
    "$\\frac {tp}{fp + tp}$  \n",
    "Recall: how many actual positives we predicted correctly with our model  \n",
    "$ \\frac {tp} {tp + fn} $  \n",
    "F1-score:  \n",
    "$ \\frac {2}{\\frac{1}{recall} + \\frac{1}{precision}} $"
   ]
  },
  {
   "cell_type": "code",
   "execution_count": 125,
   "id": "400a6c97-759e-41a4-a027-95d7b988087f",
   "metadata": {},
   "outputs": [
    {
     "name": "stdout",
     "output_type": "stream",
     "text": [
      "acurracy:  0.711864406779661\n",
      "precision:  0.9285714285714286\n",
      "recall:  0.4482758620689655\n",
      "f1 score:  0.6046511627906977\n"
     ]
    }
   ],
   "source": [
    "accuracy = (tp + tn) / (tp + fp + tn + fn)\n",
    "precision = tp / (fp + tp)\n",
    "recall = tp / (tp + fn)\n",
    "f1_score = 2 / ((1/recall) + (1/precision))\n",
    "print('acurracy: ', accuracy)\n",
    "print('precision: ', precision)\n",
    "print('recall: ', recall)\n",
    "print('f1 score: ', f1_score)"
   ]
  },
  {
   "cell_type": "markdown",
   "id": "9e646614-712e-4151-a901-8b74dfc1632c",
   "metadata": {},
   "source": [
    "***Plot Decision Boundary***"
   ]
  },
  {
   "cell_type": "code",
   "execution_count": 136,
   "id": "5844f74e-11a0-4d8b-823c-7c8a3cbca05b",
   "metadata": {},
   "outputs": [],
   "source": [
    "def plotDecisionBoundary(theta, inputData):\n",
    "    plotData(inputData)\n",
    "    u = np.linspace(-1, 1.5, 50)\n",
    "    v = np.linspace(-1, 1.5, 50)\n",
    "    z = np.zeros(shape = (len(u), len(v)))\n",
    "    for i in range(len(u)):\n",
    "        for j in range(len(v)):\n",
    "            z[i, j] = mapFeature(u[i], v[j]).dot(theta)\n",
    "    plt.contour(u, v, z, 0)\n",
    "    plt.show()\n",
    "\n",
    "\n",
    "    \n",
    "    "
   ]
  },
  {
   "cell_type": "code",
   "execution_count": 137,
   "id": "fd29d563-ccb0-4798-9e88-b08fbd7d7eb6",
   "metadata": {},
   "outputs": [
    {
     "name": "stderr",
     "output_type": "stream",
     "text": [
      "/tmp/ipykernel_80/1405651619.py:8: DeprecationWarning: Conversion of an array with ndim > 0 to a scalar is deprecated, and will error in future. Ensure you extract a single element from your array before performing this operation. (Deprecated NumPy 1.25.)\n",
      "  z[i, j] = mapFeature(u[i], v[j]).dot(theta)\n"
     ]
    },
    {
     "data": {
      "image/png": "[encoded data removed]",
      "text/plain": [
       "<Figure size 640x480 with 1 Axes>"
      ]
     },
     "metadata": {},
     "output_type": "display_data"
    }
   ],
   "source": [
    "plotDecisionBoundary(theta, data)"
   ]
  },
  {
   "cell_type": "markdown",
   "id": "9ca3b050-6068-4443-aa89-4b38460f71d7",
   "metadata": {},
   "source": [
    "***Varying regularization parameter***  \n",
    "Vary lambda value to see how it changes decision boundary"
   ]
  },
  {
   "cell_type": "code",
   "execution_count": 139,
   "id": "03d37293-990c-4be0-97dc-17003683f2d2",
   "metadata": {},
   "outputs": [
    {
     "data": {
      "text/plain": [
       "(0.6931471805599454,\n",
       " array([8.47457627e-03, 1.87880932e-02, 7.77711864e-05, 5.03446395e-02,\n",
       "        1.15013308e-02, 3.76648474e-02, 1.83559872e-02, 7.32393391e-03,\n",
       "        8.19244468e-03, 2.34764889e-02, 3.93486234e-02, 2.23923907e-03,\n",
       "        1.28600503e-02, 3.09593720e-03, 3.93028171e-02, 1.99707467e-02,\n",
       "        4.32983232e-03, 3.38643902e-03, 5.83822078e-03, 4.47629067e-03,\n",
       "        3.10079849e-02, 3.10312442e-02, 1.09740238e-03, 6.31570797e-03,\n",
       "        4.08503006e-04, 7.26504316e-03, 1.37646175e-03, 3.87936363e-02]))"
      ]
     },
     "execution_count": 139,
     "metadata": {},
     "output_type": "execute_result"
    }
   ],
   "source": [
    "lam2 = 100\n",
    "[cost2, grad2] = costFunctionReg(initial_theta, newX, y, lam2)"
   ]
  },
  {
   "cell_type": "code",
   "execution_count": 145,
   "id": "deb518a4-2947-44e0-8439-9175d4986ffd",
   "metadata": {},
   "outputs": [
    {
     "name": "stdout",
     "output_type": "stream",
     "text": [
      "Optimization terminated successfully.\n",
      "         Current function value: 0.686527\n",
      "         Iterations: 4\n",
      "         Function evaluations: 5\n",
      "         Gradient evaluations: 5\n"
     ]
    }
   ],
   "source": [
    "result2 = minimize(costFunctionReg, initial_theta, args = (newX,y, lam2), jac = True, method = 'BFGS', options = {'gtol': 1e-05, 'disp': True}) \n",
    "theta2 = result2.x\n"
   ]
  },
  {
   "cell_type": "code",
   "execution_count": 146,
   "id": "75f7274f-c5c3-4e64-b152-c0cb081df48e",
   "metadata": {},
   "outputs": [
    {
     "name": "stderr",
     "output_type": "stream",
     "text": [
      "/tmp/ipykernel_80/1405651619.py:8: DeprecationWarning: Conversion of an array with ndim > 0 to a scalar is deprecated, and will error in future. Ensure you extract a single element from your array before performing this operation. (Deprecated NumPy 1.25.)\n",
      "  z[i, j] = mapFeature(u[i], v[j]).dot(theta)\n"
     ]
    },
    {
     "data": {
      "image/png": "[encoded data removed]",
      "text/plain": [
       "<Figure size 640x480 with 1 Axes>"
      ]
     },
     "metadata": {},
     "output_type": "display_data"
    }
   ],
   "source": [
    "plotDecisionBoundary(theta2, data)"
   ]
  },
  {
   "cell_type": "code",
   "execution_count": 147,
   "id": "51f3b08d-ecce-4574-be8a-3c809e9dcb3b",
   "metadata": {},
   "outputs": [],
   "source": [
    "lam3 = 0 \n",
    "[cost3, grad3] = costFunctionReg(initial_theta, newX, y, lam3)"
   ]
  },
  {
   "cell_type": "code",
   "execution_count": 148,
   "id": "c4d87435-4e79-4add-9a68-4e38e5432c56",
   "metadata": {},
   "outputs": [
    {
     "name": "stdout",
     "output_type": "stream",
     "text": [
      "Optimization terminated successfully.\n",
      "         Current function value: 0.224569\n",
      "         Iterations: 546\n",
      "         Function evaluations: 547\n",
      "         Gradient evaluations: 547\n"
     ]
    }
   ],
   "source": [
    "result3 = minimize(costFunctionReg, initial_theta, args = (newX,y, lam3), jac = True, method = 'BFGS', options = {'gtol': 1e-05, 'disp': True}) \n",
    "theta3 = result3.x"
   ]
  },
  {
   "cell_type": "code",
   "execution_count": 149,
   "id": "b015b4c5-d60b-4401-b14e-1d6384abb737",
   "metadata": {},
   "outputs": [
    {
     "name": "stderr",
     "output_type": "stream",
     "text": [
      "/tmp/ipykernel_80/1405651619.py:8: DeprecationWarning: Conversion of an array with ndim > 0 to a scalar is deprecated, and will error in future. Ensure you extract a single element from your array before performing this operation. (Deprecated NumPy 1.25.)\n",
      "  z[i, j] = mapFeature(u[i], v[j]).dot(theta)\n"
     ]
    },
    {
     "data": {
      "image/png": "[encoded data removed]",
      "text/plain": [
       "<Figure size 640x480 with 1 Axes>"
      ]
     },
     "metadata": {},
     "output_type": "display_data"
    }
   ],
   "source": [
    "plotDecisionBoundary(theta3, data)"
   ]
  },
  {
   "cell_type": "markdown",
   "id": "981f61d4-6851-4d4b-a50c-c41b795e0878",
   "metadata": {},
   "source": [
    "Lower lambda value overfits the data  \n",
    "Higher lambda value underfits the data"
   ]
  },
  {
   "cell_type": "code",
   "execution_count": null,
   "id": "0ef81f1a-4dea-463d-a49c-64dd38cbff0e",
   "metadata": {},
   "outputs": [],
   "source": []
  }
 ],
 "metadata": {
  "kernelspec": {
   "display_name": "Python 3 (ipykernel)",
   "language": "python",
   "name": "python3"
  },
  "language_info": {
   "codemirror_mode": {
    "name": "ipython",
    "version": 3
   },
   "file_extension": ".py",
   "mimetype": "text/x-python",
   "name": "python",
   "nbconvert_exporter": "python",
   "pygments_lexer": "ipython3",
   "version": "3.11.5"
  }
 },
 "nbformat": 4,
 "nbformat_minor": 5
}
